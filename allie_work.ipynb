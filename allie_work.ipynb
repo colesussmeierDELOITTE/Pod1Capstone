{
 "cells": [
  {
   "cell_type": "markdown",
   "metadata": {},
   "source": [
    "# Capstone Project workbook - Allie Garrison\n"
   ]
  },
  {
   "cell_type": "code",
   "execution_count": 1,
   "metadata": {},
   "outputs": [],
   "source": [
    "import sqlite3\n",
    "import numpy as np\n",
    "import pandas as pd\n",
    "import matplotlib.pyplot as plt\n",
    "import seaborn as sns\n",
    "from scipy import stats\n",
    "\n",
    "%matplotlib inline"
   ]
  },
  {
   "cell_type": "code",
   "execution_count": 2,
   "metadata": {},
   "outputs": [],
   "source": [
    "conn = sqlite3.connect('zippedData/im.db')\n",
    "\n",
    "bom_movie_gross = pd.read_csv(\"zippedData/bom.movie_gross.csv\")\n",
    "rt_movie_info = pd.read_csv(\"zippedData/rt.movie_info.tsv\", sep='\\t')\n",
    "rt_reviews = pd.read_csv('zippedData/rt.reviews.tsv', sep='\\t',encoding='windows-1252')\n",
    "tmdb_movies = pd.read_csv(\"zippedData/tmdb.movies.csv\")\n",
    "tn_movie_budgets = pd.read_csv(\"zippedData/tn.movie_budgets.csv\", parse_dates=['release_date'])"
   ]
  },
  {
   "cell_type": "code",
   "execution_count": null,
   "metadata": {},
   "outputs": [],
   "source": [
    "rt_reviews.head()"
   ]
  },
  {
   "cell_type": "code",
   "execution_count": null,
   "metadata": {},
   "outputs": [],
   "source": [
    "rt_reviews.info()"
   ]
  },
  {
   "cell_type": "code",
   "execution_count": null,
   "metadata": {},
   "outputs": [],
   "source": [
    "bom_movie_gross.info()"
   ]
  },
  {
   "cell_type": "code",
   "execution_count": null,
   "metadata": {},
   "outputs": [],
   "source": [
    "bom_movie_gross.head()"
   ]
  },
  {
   "cell_type": "code",
   "execution_count": null,
   "metadata": {},
   "outputs": [],
   "source": [
    "rt_movie_info.info()"
   ]
  },
  {
   "cell_type": "code",
   "execution_count": null,
   "metadata": {},
   "outputs": [],
   "source": [
    "rt_movie_info.head()"
   ]
  },
  {
   "cell_type": "code",
   "execution_count": null,
   "metadata": {},
   "outputs": [],
   "source": [
    "tmdb_movies.info()"
   ]
  },
  {
   "cell_type": "code",
   "execution_count": null,
   "metadata": {},
   "outputs": [],
   "source": [
    "tmdb_movies.head()"
   ]
  },
  {
   "cell_type": "code",
   "execution_count": null,
   "metadata": {},
   "outputs": [],
   "source": [
    "tn_movie_budgets.info()"
   ]
  },
  {
   "cell_type": "code",
   "execution_count": null,
   "metadata": {},
   "outputs": [],
   "source": [
    "tn_movie_budgets.head()"
   ]
  },
  {
   "cell_type": "code",
   "execution_count": null,
   "metadata": {},
   "outputs": [],
   "source": [
    "tn_movie_budgets.plot.bar('production_budget')"
   ]
  },
  {
   "cell_type": "code",
   "execution_count": null,
   "metadata": {},
   "outputs": [],
   "source": []
  },
  {
   "cell_type": "code",
   "execution_count": 3,
   "metadata": {},
   "outputs": [],
   "source": [
    "## Making copy of movie budgets data frame for cleaning\n",
    "tn_movie_budgets_clean = tn_movie_budgets.copy()\n",
    "\n",
    "## turning the columns with dollar amounts into int types in millions of dollars\n",
    "tn_movie_budgets_clean['production_budget_in_millions'] = tn_movie_budgets_clean['production_budget'].str.strip('$').str.replace(',', '')\n",
    "tn_movie_budgets_clean['production_budget_in_millions'] = tn_movie_budgets_clean['production_budget_in_millions'].astype('int64') / 1000000\n",
    "\n",
    "tn_movie_budgets_clean['domestic_gross_in_millions'] = tn_movie_budgets_clean['domestic_gross'].str.strip('$').str.replace(',', '')\n",
    "tn_movie_budgets_clean['domestic_gross_in_millions'] = tn_movie_budgets_clean['domestic_gross_in_millions'].astype('int64') / 1000000\n",
    "\n",
    "tn_movie_budgets_clean['worldwide_gross_in_millions'] = tn_movie_budgets_clean['worldwide_gross'].str.strip('$').str.replace(',', '')\n",
    "tn_movie_budgets_clean['worldwide_gross_in_millions'] = tn_movie_budgets_clean['worldwide_gross_in_millions'].astype('int64') / 1000000\n",
    "\n",
    "## keeping only the movies released after January 1, 2010\n",
    "tn_movie_budgets_clean = tn_movie_budgets_clean[tn_movie_budgets_clean['release_date'] >= \"2010-01-01\"]\n",
    "\n",
    "## removing all the movies that made $0\n",
    "tn_movie_budgets_clean = tn_movie_budgets_clean[tn_movie_budgets_clean['domestic_gross_in_millions'] != 0]"
   ]
  },
  {
   "cell_type": "code",
   "execution_count": 4,
   "metadata": {},
   "outputs": [
    {
     "data": {
      "text/html": [
       "<div>\n",
       "<style scoped>\n",
       "    .dataframe tbody tr th:only-of-type {\n",
       "        vertical-align: middle;\n",
       "    }\n",
       "\n",
       "    .dataframe tbody tr th {\n",
       "        vertical-align: top;\n",
       "    }\n",
       "\n",
       "    .dataframe thead th {\n",
       "        text-align: right;\n",
       "    }\n",
       "</style>\n",
       "<table border=\"1\" class=\"dataframe\">\n",
       "  <thead>\n",
       "    <tr style=\"text-align: right;\">\n",
       "      <th></th>\n",
       "      <th>id</th>\n",
       "      <th>release_date</th>\n",
       "      <th>movie</th>\n",
       "      <th>production_budget</th>\n",
       "      <th>domestic_gross</th>\n",
       "      <th>worldwide_gross</th>\n",
       "      <th>production_budget_in_millions</th>\n",
       "      <th>domestic_gross_in_millions</th>\n",
       "      <th>worldwide_gross_in_millions</th>\n",
       "      <th>ROI_domestic</th>\n",
       "      <th>ROI_international</th>\n",
       "    </tr>\n",
       "  </thead>\n",
       "  <tbody>\n",
       "    <tr>\n",
       "      <th>1</th>\n",
       "      <td>2</td>\n",
       "      <td>2011-05-20</td>\n",
       "      <td>Pirates of the Caribbean: On Stranger Tides</td>\n",
       "      <td>$410,600,000</td>\n",
       "      <td>$241,063,875</td>\n",
       "      <td>$1,045,663,875</td>\n",
       "      <td>410.6</td>\n",
       "      <td>241.063875</td>\n",
       "      <td>1045.663875</td>\n",
       "      <td>58.710150</td>\n",
       "      <td>254.667286</td>\n",
       "    </tr>\n",
       "    <tr>\n",
       "      <th>2</th>\n",
       "      <td>3</td>\n",
       "      <td>2019-06-07</td>\n",
       "      <td>Dark Phoenix</td>\n",
       "      <td>$350,000,000</td>\n",
       "      <td>$42,762,350</td>\n",
       "      <td>$149,762,350</td>\n",
       "      <td>350.0</td>\n",
       "      <td>42.762350</td>\n",
       "      <td>149.762350</td>\n",
       "      <td>12.217814</td>\n",
       "      <td>42.789243</td>\n",
       "    </tr>\n",
       "    <tr>\n",
       "      <th>3</th>\n",
       "      <td>4</td>\n",
       "      <td>2015-05-01</td>\n",
       "      <td>Avengers: Age of Ultron</td>\n",
       "      <td>$330,600,000</td>\n",
       "      <td>$459,005,868</td>\n",
       "      <td>$1,403,013,963</td>\n",
       "      <td>330.6</td>\n",
       "      <td>459.005868</td>\n",
       "      <td>1403.013963</td>\n",
       "      <td>138.840250</td>\n",
       "      <td>424.384139</td>\n",
       "    </tr>\n",
       "    <tr>\n",
       "      <th>4</th>\n",
       "      <td>5</td>\n",
       "      <td>2017-12-15</td>\n",
       "      <td>Star Wars Ep. VIII: The Last Jedi</td>\n",
       "      <td>$317,000,000</td>\n",
       "      <td>$620,181,382</td>\n",
       "      <td>$1,316,721,747</td>\n",
       "      <td>317.0</td>\n",
       "      <td>620.181382</td>\n",
       "      <td>1316.721747</td>\n",
       "      <td>195.640815</td>\n",
       "      <td>415.369636</td>\n",
       "    </tr>\n",
       "    <tr>\n",
       "      <th>5</th>\n",
       "      <td>6</td>\n",
       "      <td>2015-12-18</td>\n",
       "      <td>Star Wars Ep. VII: The Force Awakens</td>\n",
       "      <td>$306,000,000</td>\n",
       "      <td>$936,662,225</td>\n",
       "      <td>$2,053,311,220</td>\n",
       "      <td>306.0</td>\n",
       "      <td>936.662225</td>\n",
       "      <td>2053.311220</td>\n",
       "      <td>306.098766</td>\n",
       "      <td>671.016739</td>\n",
       "    </tr>\n",
       "  </tbody>\n",
       "</table>\n",
       "</div>"
      ],
      "text/plain": [
       "   id release_date                                        movie  \\\n",
       "1   2   2011-05-20  Pirates of the Caribbean: On Stranger Tides   \n",
       "2   3   2019-06-07                                 Dark Phoenix   \n",
       "3   4   2015-05-01                      Avengers: Age of Ultron   \n",
       "4   5   2017-12-15            Star Wars Ep. VIII: The Last Jedi   \n",
       "5   6   2015-12-18         Star Wars Ep. VII: The Force Awakens   \n",
       "\n",
       "  production_budget domestic_gross worldwide_gross  \\\n",
       "1      $410,600,000   $241,063,875  $1,045,663,875   \n",
       "2      $350,000,000    $42,762,350    $149,762,350   \n",
       "3      $330,600,000   $459,005,868  $1,403,013,963   \n",
       "4      $317,000,000   $620,181,382  $1,316,721,747   \n",
       "5      $306,000,000   $936,662,225  $2,053,311,220   \n",
       "\n",
       "   production_budget_in_millions  domestic_gross_in_millions  \\\n",
       "1                          410.6                  241.063875   \n",
       "2                          350.0                   42.762350   \n",
       "3                          330.6                  459.005868   \n",
       "4                          317.0                  620.181382   \n",
       "5                          306.0                  936.662225   \n",
       "\n",
       "   worldwide_gross_in_millions  ROI_domestic  ROI_international  \n",
       "1                  1045.663875     58.710150         254.667286  \n",
       "2                   149.762350     12.217814          42.789243  \n",
       "3                  1403.013963    138.840250         424.384139  \n",
       "4                  1316.721747    195.640815         415.369636  \n",
       "5                  2053.311220    306.098766         671.016739  "
      ]
     },
     "execution_count": 4,
     "metadata": {},
     "output_type": "execute_result"
    }
   ],
   "source": [
    "## Calculating return on investment (ROI) for domestic and international revenue\n",
    "tn_movie_budgets_clean['ROI_domestic'] = (tn_movie_budgets_clean['domestic_gross_in_millions'] / tn_movie_budgets_clean['production_budget_in_millions']) * 100\n",
    "tn_movie_budgets_clean['ROI_international'] = (tn_movie_budgets_clean['worldwide_gross_in_millions'] / tn_movie_budgets_clean['production_budget_in_millions']) * 100\n",
    "tn_movie_budgets_clean.head()"
   ]
  },
  {
   "cell_type": "code",
   "execution_count": null,
   "metadata": {},
   "outputs": [],
   "source": []
  },
  {
   "cell_type": "code",
   "execution_count": null,
   "metadata": {},
   "outputs": [],
   "source": []
  },
  {
   "cell_type": "code",
   "execution_count": null,
   "metadata": {},
   "outputs": [],
   "source": []
  },
  {
   "cell_type": "code",
   "execution_count": null,
   "metadata": {},
   "outputs": [],
   "source": []
  },
  {
   "cell_type": "code",
   "execution_count": null,
   "metadata": {},
   "outputs": [],
   "source": []
  },
  {
   "cell_type": "code",
   "execution_count": null,
   "metadata": {},
   "outputs": [],
   "source": []
  },
  {
   "cell_type": "code",
   "execution_count": null,
   "metadata": {},
   "outputs": [],
   "source": [
    "q = '''\n",
    "SELECT *\n",
    "FROM persons\n",
    "LEFT JOIN known_for k USING (person_id)\n",
    "LEFT JOIN movie_basics m USING (movie_id)\n",
    "\n",
    "'''\n",
    "\n",
    "pd.read_sql(q, conn)"
   ]
  },
  {
   "cell_type": "code",
   "execution_count": null,
   "metadata": {},
   "outputs": [],
   "source": [
    "pd.read_sql('''\n",
    "SELECT  genres, COUNT() AS count_of_genres\n",
    "FROM movie_basics\n",
    "GROUP BY genres\n",
    "ORDER BY count_of_genres DESC\n",
    "''', conn)"
   ]
  },
  {
   "cell_type": "code",
   "execution_count": null,
   "metadata": {},
   "outputs": [],
   "source": [
    "table3 = pd.read_sql('''\n",
    "SELECT  title\n",
    "FROM movie_akas\n",
    "WHERE is_original_title = 1\n",
    "\n",
    "''', conn)"
   ]
  },
  {
   "cell_type": "code",
   "execution_count": null,
   "metadata": {},
   "outputs": [],
   "source": []
  },
  {
   "cell_type": "code",
   "execution_count": null,
   "metadata": {},
   "outputs": [],
   "source": []
  },
  {
   "cell_type": "markdown",
   "metadata": {},
   "source": [
    "### "
   ]
  },
  {
   "cell_type": "code",
   "execution_count": null,
   "metadata": {},
   "outputs": [],
   "source": [
    "## Joining the cleaned budget dataframe onto a queried dataframe from sql database on movie title\n",
    "budget_w_sql = tn_movie_budgets_clean.merge(table3, how='inner', left_on='movie', right_on='title')"
   ]
  },
  {
   "cell_type": "code",
   "execution_count": null,
   "metadata": {},
   "outputs": [],
   "source": [
    "budget_w_sql.describe()"
   ]
  },
  {
   "cell_type": "code",
   "execution_count": 5,
   "metadata": {},
   "outputs": [],
   "source": [
    "table_genre = pd.read_sql('''\n",
    "SELECT mb.primary_title, \n",
    "        mb.runtime_minutes, \n",
    "        mb.genres, \n",
    "        mr.averagerating,\n",
    "        mr.numvotes\n",
    "FROM movie_basics AS mb\n",
    "JOIN movie_ratings AS mr USING (movie_id)\n",
    "''', conn)"
   ]
  },
  {
   "cell_type": "code",
   "execution_count": 6,
   "metadata": {},
   "outputs": [],
   "source": [
    "genre_ratings_budget = tn_movie_budgets_clean.merge(table_genre, how='inner', left_on='movie', right_on='primary_title')"
   ]
  },
  {
   "cell_type": "code",
   "execution_count": null,
   "metadata": {},
   "outputs": [],
   "source": [
    "genre_ratings_budget.head(15)"
   ]
  },
  {
   "cell_type": "code",
   "execution_count": null,
   "metadata": {},
   "outputs": [],
   "source": [
    "genre_ratings_budget.describe()"
   ]
  },
  {
   "cell_type": "code",
   "execution_count": null,
   "metadata": {},
   "outputs": [],
   "source": [
    "genre_ratings_budget.runtime_minutes.plot.box()"
   ]
  },
  {
   "cell_type": "code",
   "execution_count": 7,
   "metadata": {},
   "outputs": [
    {
     "data": {
      "text/plain": [
       "(6.3798697775366255, 6.57376705141658)"
      ]
     },
     "execution_count": 7,
     "metadata": {},
     "output_type": "execute_result"
    }
   ],
   "source": [
    "action = genre_ratings_budget[genre_ratings_budget['genres'].str.contains('Drama') == True]\n",
    "avg_rating = genre_ratings_budget['averagerating'].mean()\n",
    "avg_rating, action['averagerating'].mean()"
   ]
  },
  {
   "cell_type": "code",
   "execution_count": null,
   "metadata": {},
   "outputs": [],
   "source": [
    "stats.ttest_1samp(action['averagerating'], popmean=avg_rating)"
   ]
  },
  {
   "cell_type": "code",
   "execution_count": null,
   "metadata": {},
   "outputs": [],
   "source": [
    "genre_ratings_budget.genres.describe()"
   ]
  },
  {
   "cell_type": "code",
   "execution_count": 8,
   "metadata": {},
   "outputs": [],
   "source": [
    "genre_ratings_budget['profit_in_millions'] = genre_ratings_budget['worldwide_gross_in_millions'] - genre_ratings_budget['production_budget_in_millions']"
   ]
  },
  {
   "cell_type": "code",
   "execution_count": 9,
   "metadata": {},
   "outputs": [],
   "source": [
    "# genre_hash is a dictionary where each key is a genre, and the value is the number of times it occurs in the 'genres' column\n",
    "genre_hash = {}\n",
    "\n",
    "# array of lists where each individual list is every genre listed for a single movie\n",
    "genre_lists = genre_ratings_budget['genres'].str.split(',')\n",
    "\n",
    "for i, genres in enumerate(genre_lists):\n",
    "    # try/ except in case there is an empty list (no genres listed for a movie)\n",
    "    try:\n",
    "        for genre in genres:\n",
    "            # add one to genre if the key exists\n",
    "            if genre in genre_hash.keys():\n",
    "                genre_hash[genre] += 1\n",
    "            # otherwise create the key\n",
    "            else:\n",
    "                genre_hash[genre] = 1\n",
    "    except:\n",
    "        pass"
   ]
  },
  {
   "cell_type": "code",
   "execution_count": 10,
   "metadata": {},
   "outputs": [],
   "source": [
    "genre_stats = []\n",
    "for genre in genre_hash.keys():\n",
    "    #filter for every entry that contains the current genre\n",
    "    mask = genre_ratings_budget[genre_ratings_budget['genres'].str.contains(genre) == True]\n",
    "    # append list with averages for relevant features\n",
    "    genre_stats.append([genre, mask['profit_in_millions'].mean().round(2), \n",
    "                        mask['production_budget_in_millions'].mean().round(2),\n",
    "                        mask['averagerating'].mean().round(2),\n",
    "                        mask['numvotes'].mean().round(2)])"
   ]
  },
  {
   "cell_type": "code",
   "execution_count": 11,
   "metadata": {},
   "outputs": [
    {
     "data": {
      "text/html": [
       "<div>\n",
       "<style scoped>\n",
       "    .dataframe tbody tr th:only-of-type {\n",
       "        vertical-align: middle;\n",
       "    }\n",
       "\n",
       "    .dataframe tbody tr th {\n",
       "        vertical-align: top;\n",
       "    }\n",
       "\n",
       "    .dataframe thead th {\n",
       "        text-align: right;\n",
       "    }\n",
       "</style>\n",
       "<table border=\"1\" class=\"dataframe\">\n",
       "  <thead>\n",
       "    <tr style=\"text-align: right;\">\n",
       "      <th></th>\n",
       "      <th>Genre</th>\n",
       "      <th>Average_Profit</th>\n",
       "      <th>Average_Budget</th>\n",
       "      <th>Average_Rating</th>\n",
       "      <th>Average_Votes</th>\n",
       "    </tr>\n",
       "  </thead>\n",
       "  <tbody>\n",
       "    <tr>\n",
       "      <th>0</th>\n",
       "      <td>Action</td>\n",
       "      <td>160.90</td>\n",
       "      <td>79.93</td>\n",
       "      <td>6.33</td>\n",
       "      <td>173279.07</td>\n",
       "    </tr>\n",
       "    <tr>\n",
       "      <th>1</th>\n",
       "      <td>Adventure</td>\n",
       "      <td>241.02</td>\n",
       "      <td>105.76</td>\n",
       "      <td>6.49</td>\n",
       "      <td>195600.38</td>\n",
       "    </tr>\n",
       "    <tr>\n",
       "      <th>2</th>\n",
       "      <td>Fantasy</td>\n",
       "      <td>165.87</td>\n",
       "      <td>82.88</td>\n",
       "      <td>6.11</td>\n",
       "      <td>137905.34</td>\n",
       "    </tr>\n",
       "    <tr>\n",
       "      <th>3</th>\n",
       "      <td>Sci-Fi</td>\n",
       "      <td>236.87</td>\n",
       "      <td>88.97</td>\n",
       "      <td>6.49</td>\n",
       "      <td>258160.36</td>\n",
       "    </tr>\n",
       "    <tr>\n",
       "      <th>4</th>\n",
       "      <td>Thriller</td>\n",
       "      <td>82.10</td>\n",
       "      <td>34.26</td>\n",
       "      <td>6.05</td>\n",
       "      <td>105111.21</td>\n",
       "    </tr>\n",
       "    <tr>\n",
       "      <th>5</th>\n",
       "      <td>Western</td>\n",
       "      <td>46.35</td>\n",
       "      <td>50.07</td>\n",
       "      <td>6.78</td>\n",
       "      <td>165738.00</td>\n",
       "    </tr>\n",
       "    <tr>\n",
       "      <th>6</th>\n",
       "      <td>Animation</td>\n",
       "      <td>280.62</td>\n",
       "      <td>98.50</td>\n",
       "      <td>6.67</td>\n",
       "      <td>121386.85</td>\n",
       "    </tr>\n",
       "    <tr>\n",
       "      <th>7</th>\n",
       "      <td>Comedy</td>\n",
       "      <td>92.29</td>\n",
       "      <td>39.56</td>\n",
       "      <td>6.29</td>\n",
       "      <td>88686.08</td>\n",
       "    </tr>\n",
       "    <tr>\n",
       "      <th>8</th>\n",
       "      <td>Family</td>\n",
       "      <td>141.12</td>\n",
       "      <td>70.00</td>\n",
       "      <td>6.17</td>\n",
       "      <td>76245.96</td>\n",
       "    </tr>\n",
       "    <tr>\n",
       "      <th>9</th>\n",
       "      <td>Crime</td>\n",
       "      <td>50.29</td>\n",
       "      <td>32.38</td>\n",
       "      <td>6.39</td>\n",
       "      <td>106000.05</td>\n",
       "    </tr>\n",
       "    <tr>\n",
       "      <th>10</th>\n",
       "      <td>Drama</td>\n",
       "      <td>49.38</td>\n",
       "      <td>27.04</td>\n",
       "      <td>6.57</td>\n",
       "      <td>81164.42</td>\n",
       "    </tr>\n",
       "    <tr>\n",
       "      <th>11</th>\n",
       "      <td>Musical</td>\n",
       "      <td>226.87</td>\n",
       "      <td>59.46</td>\n",
       "      <td>6.35</td>\n",
       "      <td>56614.45</td>\n",
       "    </tr>\n",
       "    <tr>\n",
       "      <th>12</th>\n",
       "      <td>Horror</td>\n",
       "      <td>59.62</td>\n",
       "      <td>20.70</td>\n",
       "      <td>5.65</td>\n",
       "      <td>65936.34</td>\n",
       "    </tr>\n",
       "    <tr>\n",
       "      <th>13</th>\n",
       "      <td>Romance</td>\n",
       "      <td>55.41</td>\n",
       "      <td>23.22</td>\n",
       "      <td>6.36</td>\n",
       "      <td>70854.44</td>\n",
       "    </tr>\n",
       "    <tr>\n",
       "      <th>14</th>\n",
       "      <td>Mystery</td>\n",
       "      <td>64.26</td>\n",
       "      <td>23.59</td>\n",
       "      <td>6.18</td>\n",
       "      <td>118333.03</td>\n",
       "    </tr>\n",
       "    <tr>\n",
       "      <th>15</th>\n",
       "      <td>Documentary</td>\n",
       "      <td>51.73</td>\n",
       "      <td>25.08</td>\n",
       "      <td>7.00</td>\n",
       "      <td>4022.84</td>\n",
       "    </tr>\n",
       "    <tr>\n",
       "      <th>16</th>\n",
       "      <td>Biography</td>\n",
       "      <td>54.81</td>\n",
       "      <td>25.97</td>\n",
       "      <td>6.98</td>\n",
       "      <td>99425.33</td>\n",
       "    </tr>\n",
       "    <tr>\n",
       "      <th>17</th>\n",
       "      <td>History</td>\n",
       "      <td>47.11</td>\n",
       "      <td>32.47</td>\n",
       "      <td>6.87</td>\n",
       "      <td>74881.03</td>\n",
       "    </tr>\n",
       "    <tr>\n",
       "      <th>18</th>\n",
       "      <td>Sport</td>\n",
       "      <td>74.52</td>\n",
       "      <td>28.33</td>\n",
       "      <td>6.59</td>\n",
       "      <td>57519.12</td>\n",
       "    </tr>\n",
       "    <tr>\n",
       "      <th>19</th>\n",
       "      <td>War</td>\n",
       "      <td>20.25</td>\n",
       "      <td>22.87</td>\n",
       "      <td>6.65</td>\n",
       "      <td>55204.73</td>\n",
       "    </tr>\n",
       "    <tr>\n",
       "      <th>20</th>\n",
       "      <td>Music</td>\n",
       "      <td>86.28</td>\n",
       "      <td>23.60</td>\n",
       "      <td>6.42</td>\n",
       "      <td>62156.55</td>\n",
       "    </tr>\n",
       "    <tr>\n",
       "      <th>21</th>\n",
       "      <td>News</td>\n",
       "      <td>12.76</td>\n",
       "      <td>18.90</td>\n",
       "      <td>6.70</td>\n",
       "      <td>15.00</td>\n",
       "    </tr>\n",
       "  </tbody>\n",
       "</table>\n",
       "</div>"
      ],
      "text/plain": [
       "          Genre  Average_Profit  Average_Budget  Average_Rating  Average_Votes\n",
       "0        Action          160.90           79.93            6.33      173279.07\n",
       "1     Adventure          241.02          105.76            6.49      195600.38\n",
       "2       Fantasy          165.87           82.88            6.11      137905.34\n",
       "3        Sci-Fi          236.87           88.97            6.49      258160.36\n",
       "4      Thriller           82.10           34.26            6.05      105111.21\n",
       "5       Western           46.35           50.07            6.78      165738.00\n",
       "6     Animation          280.62           98.50            6.67      121386.85\n",
       "7        Comedy           92.29           39.56            6.29       88686.08\n",
       "8        Family          141.12           70.00            6.17       76245.96\n",
       "9         Crime           50.29           32.38            6.39      106000.05\n",
       "10        Drama           49.38           27.04            6.57       81164.42\n",
       "11      Musical          226.87           59.46            6.35       56614.45\n",
       "12       Horror           59.62           20.70            5.65       65936.34\n",
       "13      Romance           55.41           23.22            6.36       70854.44\n",
       "14      Mystery           64.26           23.59            6.18      118333.03\n",
       "15  Documentary           51.73           25.08            7.00        4022.84\n",
       "16    Biography           54.81           25.97            6.98       99425.33\n",
       "17      History           47.11           32.47            6.87       74881.03\n",
       "18        Sport           74.52           28.33            6.59       57519.12\n",
       "19          War           20.25           22.87            6.65       55204.73\n",
       "20        Music           86.28           23.60            6.42       62156.55\n",
       "21         News           12.76           18.90            6.70          15.00"
      ]
     },
     "execution_count": 11,
     "metadata": {},
     "output_type": "execute_result"
    }
   ],
   "source": [
    "#convert to dataframe\n",
    "genre_stats_df = pd.DataFrame(genre_stats, \n",
    "                              columns=['Genre', 'Average_Profit', 'Average_Budget', 'Average_Rating', 'Average_Votes'])\n",
    "genre_stats_df"
   ]
  },
  {
   "cell_type": "code",
   "execution_count": 11,
   "metadata": {},
   "outputs": [
    {
     "data": {
      "text/plain": [
       "(94.15790165165491, 280.6194115333333)"
      ]
     },
     "execution_count": 11,
     "metadata": {},
     "output_type": "execute_result"
    }
   ],
   "source": [
    "action = genre_ratings_budget[genre_ratings_budget['genres'].str.contains('Animation') == True]\n",
    "avg_rating = genre_ratings_budget['profit_in_millions'].mean()\n",
    "avg_rating, action['profit_in_millions'].mean()"
   ]
  },
  {
   "cell_type": "code",
   "execution_count": 12,
   "metadata": {},
   "outputs": [
    {
     "data": {
      "text/plain": [
       "Ttest_1sampResult(statistic=6.782217945321086, pvalue=7.403633429642129e-10)"
      ]
     },
     "execution_count": 12,
     "metadata": {},
     "output_type": "execute_result"
    }
   ],
   "source": [
    "stats.ttest_1samp(action['profit_in_millions'], popmean=avg_rating)"
   ]
  },
  {
   "cell_type": "code",
   "execution_count": 12,
   "metadata": {},
   "outputs": [],
   "source": [
    "animation = genre_ratings_budget[genre_ratings_budget['genres'].str.contains('Animation') == True]"
   ]
  },
  {
   "cell_type": "code",
   "execution_count": 15,
   "metadata": {},
   "outputs": [
    {
     "name": "stderr",
     "output_type": "stream",
     "text": [
      "<ipython-input-15-38ae78ff0ac2>:1: SettingWithCopyWarning: \n",
      "A value is trying to be set on a copy of a slice from a DataFrame.\n",
      "Try using .loc[row_indexer,col_indexer] = value instead\n",
      "\n",
      "See the caveats in the documentation: https://pandas.pydata.org/pandas-docs/stable/user_guide/indexing.html#returning-a-view-versus-a-copy\n",
      "  animation['runtime_bins'] = animation['runtime_minutes'].apply(bin_runtime)\n"
     ]
    }
   ],
   "source": [
    "animation['runtime_bins'] = animation['runtime_minutes'].apply(bin_runtime)"
   ]
  },
  {
   "cell_type": "code",
   "execution_count": 14,
   "metadata": {},
   "outputs": [],
   "source": [
    "def bin_runtime(x):\n",
    "    if x >= 110:\n",
    "        return '110-120'\n",
    "    if x < 110 and x >= 100:\n",
    "        return '100-109'\n",
    "    if x < 100 and x >= 90:\n",
    "        return '90-99'\n",
    "    elif x < 90 and x >= 80:\n",
    "        return '80-89'\n",
    "    elif x < 80 and x >= 70:\n",
    "        return '70-79'\n",
    "    elif x < 70 and x >= 60:\n",
    "        return '60-69'\n",
    "  "
   ]
  },
  {
   "cell_type": "code",
   "execution_count": 20,
   "metadata": {},
   "outputs": [],
   "source": [
    "#animation.runtime_bins.isna().count()\n",
    "animation = animation[animation.runtime_bins.isna() == False]"
   ]
  },
  {
   "cell_type": "code",
   "execution_count": 21,
   "metadata": {},
   "outputs": [
    {
     "data": {
      "text/html": [
       "<div>\n",
       "<style scoped>\n",
       "    .dataframe tbody tr th:only-of-type {\n",
       "        vertical-align: middle;\n",
       "    }\n",
       "\n",
       "    .dataframe tbody tr th {\n",
       "        vertical-align: top;\n",
       "    }\n",
       "\n",
       "    .dataframe thead th {\n",
       "        text-align: right;\n",
       "    }\n",
       "</style>\n",
       "<table border=\"1\" class=\"dataframe\">\n",
       "  <thead>\n",
       "    <tr style=\"text-align: right;\">\n",
       "      <th></th>\n",
       "      <th>id</th>\n",
       "      <th>release_date</th>\n",
       "      <th>movie</th>\n",
       "      <th>production_budget</th>\n",
       "      <th>domestic_gross</th>\n",
       "      <th>worldwide_gross</th>\n",
       "      <th>production_budget_in_millions</th>\n",
       "      <th>domestic_gross_in_millions</th>\n",
       "      <th>worldwide_gross_in_millions</th>\n",
       "      <th>ROI_domestic</th>\n",
       "      <th>ROI_international</th>\n",
       "      <th>primary_title</th>\n",
       "      <th>runtime_minutes</th>\n",
       "      <th>genres</th>\n",
       "      <th>averagerating</th>\n",
       "      <th>numvotes</th>\n",
       "      <th>profit_in_millions</th>\n",
       "      <th>runtime_bins</th>\n",
       "    </tr>\n",
       "  </thead>\n",
       "  <tbody>\n",
       "    <tr>\n",
       "      <th>10</th>\n",
       "      <td>15</td>\n",
       "      <td>2010-11-24</td>\n",
       "      <td>Tangled</td>\n",
       "      <td>$260,000,000</td>\n",
       "      <td>$200,821,936</td>\n",
       "      <td>$586,477,240</td>\n",
       "      <td>260.0</td>\n",
       "      <td>200.821936</td>\n",
       "      <td>586.477240</td>\n",
       "      <td>77.239206</td>\n",
       "      <td>225.568169</td>\n",
       "      <td>Tangled</td>\n",
       "      <td>100.0</td>\n",
       "      <td>Adventure,Animation,Comedy</td>\n",
       "      <td>7.8</td>\n",
       "      <td>366366</td>\n",
       "      <td>326.477240</td>\n",
       "      <td>100-109</td>\n",
       "    </tr>\n",
       "    <tr>\n",
       "      <th>35</th>\n",
       "      <td>44</td>\n",
       "      <td>2018-06-15</td>\n",
       "      <td>Incredibles 2</td>\n",
       "      <td>$200,000,000</td>\n",
       "      <td>$608,581,744</td>\n",
       "      <td>$1,242,520,711</td>\n",
       "      <td>200.0</td>\n",
       "      <td>608.581744</td>\n",
       "      <td>1242.520711</td>\n",
       "      <td>304.290872</td>\n",
       "      <td>621.260355</td>\n",
       "      <td>Incredibles 2</td>\n",
       "      <td>118.0</td>\n",
       "      <td>Action,Adventure,Animation</td>\n",
       "      <td>7.7</td>\n",
       "      <td>203510</td>\n",
       "      <td>1042.520711</td>\n",
       "      <td>110-120</td>\n",
       "    </tr>\n",
       "    <tr>\n",
       "      <th>37</th>\n",
       "      <td>46</td>\n",
       "      <td>2016-06-17</td>\n",
       "      <td>Finding Dory</td>\n",
       "      <td>$200,000,000</td>\n",
       "      <td>$486,295,561</td>\n",
       "      <td>$1,021,215,193</td>\n",
       "      <td>200.0</td>\n",
       "      <td>486.295561</td>\n",
       "      <td>1021.215193</td>\n",
       "      <td>243.147781</td>\n",
       "      <td>510.607596</td>\n",
       "      <td>Finding Dory</td>\n",
       "      <td>97.0</td>\n",
       "      <td>Adventure,Animation,Comedy</td>\n",
       "      <td>7.3</td>\n",
       "      <td>213542</td>\n",
       "      <td>821.215193</td>\n",
       "      <td>90-99</td>\n",
       "    </tr>\n",
       "    <tr>\n",
       "      <th>38</th>\n",
       "      <td>47</td>\n",
       "      <td>2010-06-18</td>\n",
       "      <td>Toy Story 3</td>\n",
       "      <td>$200,000,000</td>\n",
       "      <td>$415,004,880</td>\n",
       "      <td>$1,068,879,522</td>\n",
       "      <td>200.0</td>\n",
       "      <td>415.004880</td>\n",
       "      <td>1068.879522</td>\n",
       "      <td>207.502440</td>\n",
       "      <td>534.439761</td>\n",
       "      <td>Toy Story 3</td>\n",
       "      <td>103.0</td>\n",
       "      <td>Adventure,Animation,Comedy</td>\n",
       "      <td>8.3</td>\n",
       "      <td>682218</td>\n",
       "      <td>868.879522</td>\n",
       "      <td>100-109</td>\n",
       "    </tr>\n",
       "    <tr>\n",
       "      <th>43</th>\n",
       "      <td>53</td>\n",
       "      <td>2013-06-21</td>\n",
       "      <td>Monsters University</td>\n",
       "      <td>$200,000,000</td>\n",
       "      <td>$268,488,329</td>\n",
       "      <td>$743,588,329</td>\n",
       "      <td>200.0</td>\n",
       "      <td>268.488329</td>\n",
       "      <td>743.588329</td>\n",
       "      <td>134.244165</td>\n",
       "      <td>371.794165</td>\n",
       "      <td>Monsters University</td>\n",
       "      <td>104.0</td>\n",
       "      <td>Adventure,Animation,Comedy</td>\n",
       "      <td>7.3</td>\n",
       "      <td>291887</td>\n",
       "      <td>543.588329</td>\n",
       "      <td>100-109</td>\n",
       "    </tr>\n",
       "  </tbody>\n",
       "</table>\n",
       "</div>"
      ],
      "text/plain": [
       "    id release_date                movie production_budget domestic_gross  \\\n",
       "10  15   2010-11-24              Tangled      $260,000,000   $200,821,936   \n",
       "35  44   2018-06-15        Incredibles 2      $200,000,000   $608,581,744   \n",
       "37  46   2016-06-17         Finding Dory      $200,000,000   $486,295,561   \n",
       "38  47   2010-06-18          Toy Story 3      $200,000,000   $415,004,880   \n",
       "43  53   2013-06-21  Monsters University      $200,000,000   $268,488,329   \n",
       "\n",
       "   worldwide_gross  production_budget_in_millions  domestic_gross_in_millions  \\\n",
       "10    $586,477,240                          260.0                  200.821936   \n",
       "35  $1,242,520,711                          200.0                  608.581744   \n",
       "37  $1,021,215,193                          200.0                  486.295561   \n",
       "38  $1,068,879,522                          200.0                  415.004880   \n",
       "43    $743,588,329                          200.0                  268.488329   \n",
       "\n",
       "    worldwide_gross_in_millions  ROI_domestic  ROI_international  \\\n",
       "10                   586.477240     77.239206         225.568169   \n",
       "35                  1242.520711    304.290872         621.260355   \n",
       "37                  1021.215193    243.147781         510.607596   \n",
       "38                  1068.879522    207.502440         534.439761   \n",
       "43                   743.588329    134.244165         371.794165   \n",
       "\n",
       "          primary_title  runtime_minutes                      genres  \\\n",
       "10              Tangled            100.0  Adventure,Animation,Comedy   \n",
       "35        Incredibles 2            118.0  Action,Adventure,Animation   \n",
       "37         Finding Dory             97.0  Adventure,Animation,Comedy   \n",
       "38          Toy Story 3            103.0  Adventure,Animation,Comedy   \n",
       "43  Monsters University            104.0  Adventure,Animation,Comedy   \n",
       "\n",
       "    averagerating  numvotes  profit_in_millions runtime_bins  \n",
       "10            7.8    366366          326.477240      100-109  \n",
       "35            7.7    203510         1042.520711      110-120  \n",
       "37            7.3    213542          821.215193        90-99  \n",
       "38            8.3    682218          868.879522      100-109  \n",
       "43            7.3    291887          543.588329      100-109  "
      ]
     },
     "execution_count": 21,
     "metadata": {},
     "output_type": "execute_result"
    }
   ],
   "source": [
    "animation.head()"
   ]
  },
  {
   "cell_type": "code",
   "execution_count": 34,
   "metadata": {},
   "outputs": [
    {
     "data": {
      "image/png": "[encoded data removed]",
      "text/plain": [
       "<Figure size 1152x648 with 1 Axes>"
      ]
     },
     "metadata": {},
     "output_type": "display_data"
    }
   ],
   "source": [
    "plt.figure(figsize=(16,9))\n",
    "sns.set(font_scale=2)\n",
    "#plt.xticks(rotation=90)\n",
    "plt.title(\"movies per runtime\")\n",
    "sns.histplot(data = animation, x='runtime_minutes', y='ROI_international', bins=5);"
   ]
  },
  {
   "cell_type": "code",
   "execution_count": null,
   "metadata": {},
   "outputs": [],
   "source": []
  }
 ],
 "metadata": {
  "kernelspec": {
   "display_name": "Python 3",
   "language": "python",
   "name": "python3"
  },
  "language_info": {
   "codemirror_mode": {
    "name": "ipython",
    "version": 3
   },
   "file_extension": ".py",
   "mimetype": "text/x-python",
   "name": "python",
   "nbconvert_exporter": "python",
   "pygments_lexer": "ipython3",
   "version": "3.8.5"
  }
 },
 "nbformat": 4,
 "nbformat_minor": 4
}
