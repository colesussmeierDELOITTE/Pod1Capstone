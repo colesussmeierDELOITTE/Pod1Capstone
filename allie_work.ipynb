{
 "cells": [
  {
   "cell_type": "markdown",
   "metadata": {},
   "source": [
    "# Capstone Project workbook - Allie Garrison\n"
   ]
  },
  {
   "cell_type": "code",
   "execution_count": 1,
   "metadata": {},
   "outputs": [],
   "source": [
    "import sqlite3\n",
    "import numpy as np\n",
    "import pandas as pd\n",
    "import matplotlib.pyplot as plt\n",
    "import seaborn as sns\n",
    "\n",
    "%matplotlib inline"
   ]
  },
  {
   "cell_type": "code",
   "execution_count": 2,
   "metadata": {},
   "outputs": [],
   "source": [
    "conn = sqlite3.connect('zippedData/im.db')\n",
    "\n",
    "bom_movie_gross = pd.read_csv(\"zippedData/bom.movie_gross.csv\")\n",
    "rt_movie_info = pd.read_csv(\"zippedData/rt.movie_info.tsv\", sep='\\t')\n",
    "rt_reviews = pd.read_csv('zippedData/rt.reviews.tsv', sep='\\t',encoding='windows-1252')\n",
    "tmdb_movies = pd.read_csv(\"zippedData/tmdb.movies.csv\")\n",
    "tn_movie_budgets = pd.read_csv(\"zippedData/tn.movie_budgets.csv\", parse_dates=['release_date'])"
   ]
  },
  {
   "cell_type": "code",
   "execution_count": null,
   "metadata": {},
   "outputs": [],
   "source": [
    "rt_reviews.head()"
   ]
  },
  {
   "cell_type": "code",
   "execution_count": null,
   "metadata": {},
   "outputs": [],
   "source": [
    "rt_reviews.info()"
   ]
  },
  {
   "cell_type": "code",
   "execution_count": null,
   "metadata": {},
   "outputs": [],
   "source": [
    "bom_movie_gross.info()"
   ]
  },
  {
   "cell_type": "code",
   "execution_count": null,
   "metadata": {},
   "outputs": [],
   "source": [
    "bom_movie_gross.head()"
   ]
  },
  {
   "cell_type": "code",
   "execution_count": null,
   "metadata": {},
   "outputs": [],
   "source": [
    "rt_movie_info.info()"
   ]
  },
  {
   "cell_type": "code",
   "execution_count": null,
   "metadata": {},
   "outputs": [],
   "source": [
    "rt_movie_info.head()"
   ]
  },
  {
   "cell_type": "code",
   "execution_count": null,
   "metadata": {},
   "outputs": [],
   "source": [
    "tmdb_movies.info()"
   ]
  },
  {
   "cell_type": "code",
   "execution_count": null,
   "metadata": {},
   "outputs": [],
   "source": [
    "tmdb_movies.head()"
   ]
  },
  {
   "cell_type": "code",
   "execution_count": 1,
   "metadata": {},
   "outputs": [
    {
     "ename": "NameError",
     "evalue": "name 'tn_movie_budgets' is not defined",
     "output_type": "error",
     "traceback": [
      "\u001b[1;31m---------------------------------------------------------------------------\u001b[0m",
      "\u001b[1;31mNameError\u001b[0m                                 Traceback (most recent call last)",
      "\u001b[1;32m<ipython-input-1-defac4487036>\u001b[0m in \u001b[0;36m<module>\u001b[1;34m\u001b[0m\n\u001b[1;32m----> 1\u001b[1;33m \u001b[0mtn_movie_budgets\u001b[0m\u001b[1;33m.\u001b[0m\u001b[0minfo\u001b[0m\u001b[1;33m(\u001b[0m\u001b[1;33m)\u001b[0m\u001b[1;33m\u001b[0m\u001b[1;33m\u001b[0m\u001b[0m\n\u001b[0m",
      "\u001b[1;31mNameError\u001b[0m: name 'tn_movie_budgets' is not defined"
     ]
    }
   ],
   "source": [
    "tn_movie_budgets.info()"
   ]
  },
  {
   "cell_type": "code",
   "execution_count": null,
   "metadata": {},
   "outputs": [],
   "source": [
    "tn_movie_budgets.head()"
   ]
  },
  {
   "cell_type": "code",
   "execution_count": null,
   "metadata": {},
   "outputs": [],
   "source": [
    "tn_movie_budgets.plot.bar('production_budget')"
   ]
  },
  {
   "cell_type": "code",
   "execution_count": null,
   "metadata": {},
   "outputs": [],
   "source": []
  },
  {
   "cell_type": "code",
   "execution_count": 3,
   "metadata": {},
   "outputs": [],
   "source": [
    "## Making copy of movie budgets data frame for cleaning\n",
    "tn_movie_budgets_clean = tn_movie_budgets.copy()\n",
    "\n",
    "## turning the columns with dollar amounts into int types in millions of dollars\n",
    "tn_movie_budgets_clean['production_budget_in_millions'] = tn_movie_budgets_clean['production_budget'].str.strip('$').str.replace(',', '')\n",
    "tn_movie_budgets_clean['production_budget_in_millions'] = tn_movie_budgets_clean['production_budget_in_millions'].astype('int64') / 1000000\n",
    "\n",
    "tn_movie_budgets_clean['domestic_gross_in_millions'] = tn_movie_budgets_clean['domestic_gross'].str.strip('$').str.replace(',', '')\n",
    "tn_movie_budgets_clean['domestic_gross_in_millions'] = tn_movie_budgets_clean['domestic_gross_in_millions'].astype('int64') / 1000000\n",
    "\n",
    "tn_movie_budgets_clean['worldwide_gross_in_millions'] = tn_movie_budgets_clean['worldwide_gross'].str.strip('$').str.replace(',', '')\n",
    "tn_movie_budgets_clean['worldwide_gross_in_millions'] = tn_movie_budgets_clean['worldwide_gross_in_millions'].astype('int64') / 1000000\n",
    "\n",
    "## keeping only the movies released after January 1, 2010\n",
    "tn_movie_budgets_clean = tn_movie_budgets_clean[tn_movie_budgets_clean['release_date'] >= \"2010-01-01\"]\n",
    "\n",
    "## removing all the movies that made $0\n",
    "tn_movie_budgets_clean = tn_movie_budgets_clean[tn_movie_budgets_clean['domestic_gross_in_millions'] != 0]"
   ]
  },
  {
   "cell_type": "code",
   "execution_count": null,
   "metadata": {},
   "outputs": [],
   "source": [
    "## Calculating return on investment (ROI) for domestic and international revenue\n",
    "tn_movie_budgets_clean['ROI_domestic'] = (tn_movie_budgets_clean['domestic_gross_in_millions'] / tn_movie_budgets_clean['production_budget_in_millions']) * 100\n",
    "tn_movie_budgets_clean['ROI_international'] = (tn_movie_budgets_clean['worldwide_gross_in_millions'] / tn_movie_budgets_clean['production_budget_in_millions']) * 100\n",
    "tn_movie_budgets_clean.head()"
   ]
  },
  {
   "cell_type": "code",
   "execution_count": 4,
   "metadata": {},
   "outputs": [],
   "source": []
  },
  {
   "cell_type": "code",
   "execution_count": null,
   "metadata": {},
   "outputs": [],
   "source": []
  },
  {
   "cell_type": "code",
   "execution_count": null,
   "metadata": {},
   "outputs": [],
   "source": []
  },
  {
   "cell_type": "code",
   "execution_count": null,
   "metadata": {},
   "outputs": [],
   "source": []
  },
  {
   "cell_type": "code",
   "execution_count": null,
   "metadata": {},
   "outputs": [],
   "source": []
  },
  {
   "cell_type": "code",
   "execution_count": null,
   "metadata": {},
   "outputs": [],
   "source": []
  },
  {
   "cell_type": "code",
   "execution_count": null,
   "metadata": {},
   "outputs": [],
   "source": [
    "q = '''\n",
    "SELECT *\n",
    "FROM persons\n",
    "LEFT JOIN known_for k USING (person_id)\n",
    "LEFT JOIN movie_basics m USING (movie_id)\n",
    "\n",
    "'''\n",
    "\n",
    "pd.read_sql(q, conn)"
   ]
  },
  {
   "cell_type": "code",
   "execution_count": null,
   "metadata": {},
   "outputs": [],
   "source": [
    "pd.read_sql('''\n",
    "SELECT  genres, COUNT() AS count_of_genres\n",
    "FROM movie_basics\n",
    "GROUP BY genres\n",
    "ORDER BY count_of_genres DESC\n",
    "''', conn)"
   ]
  },
  {
   "cell_type": "code",
   "execution_count": 7,
   "metadata": {},
   "outputs": [],
   "source": [
    "table3 = pd.read_sql('''\n",
    "SELECT  title\n",
    "FROM movie_akas\n",
    "WHERE is_original_title = 1\n",
    "\n",
    "''', conn)"
   ]
  },
  {
   "cell_type": "code",
   "execution_count": null,
   "metadata": {},
   "outputs": [],
   "source": []
  },
  {
   "cell_type": "code",
   "execution_count": null,
   "metadata": {},
   "outputs": [],
   "source": []
  },
  {
   "cell_type": "markdown",
   "metadata": {},
   "source": [
    "### "
   ]
  },
  {
   "cell_type": "code",
   "execution_count": 9,
   "metadata": {},
   "outputs": [],
   "source": [
    "## Joining the cleaned budget dataframe onto a queried dataframe from sql database on movie title\n",
    "budget_w_sql = tn_movie_budgets_clean.merge(table3, how='inner', left_on='movie', right_on='title')"
   ]
  },
  {
   "cell_type": "code",
   "execution_count": 11,
   "metadata": {},
   "outputs": [
    {
     "data": {
      "text/html": [
       "<div>\n",
       "<style scoped>\n",
       "    .dataframe tbody tr th:only-of-type {\n",
       "        vertical-align: middle;\n",
       "    }\n",
       "\n",
       "    .dataframe tbody tr th {\n",
       "        vertical-align: top;\n",
       "    }\n",
       "\n",
       "    .dataframe thead th {\n",
       "        text-align: right;\n",
       "    }\n",
       "</style>\n",
       "<table border=\"1\" class=\"dataframe\">\n",
       "  <thead>\n",
       "    <tr style=\"text-align: right;\">\n",
       "      <th></th>\n",
       "      <th>id</th>\n",
       "      <th>production_budget_in_millions</th>\n",
       "      <th>domestic_gross_in_millions</th>\n",
       "      <th>worldwide_gross_in_millions</th>\n",
       "      <th>ROI_domestic</th>\n",
       "      <th>ROI_international</th>\n",
       "    </tr>\n",
       "  </thead>\n",
       "  <tbody>\n",
       "    <tr>\n",
       "      <th>count</th>\n",
       "      <td>1608.000000</td>\n",
       "      <td>1608.000000</td>\n",
       "      <td>1608.000000</td>\n",
       "      <td>1608.000000</td>\n",
       "      <td>1608.000000</td>\n",
       "      <td>1608.000000</td>\n",
       "    </tr>\n",
       "    <tr>\n",
       "      <th>mean</th>\n",
       "      <td>51.268657</td>\n",
       "      <td>44.242343</td>\n",
       "      <td>55.748024</td>\n",
       "      <td>139.093446</td>\n",
       "      <td>210.463647</td>\n",
       "      <td>417.476241</td>\n",
       "    </tr>\n",
       "    <tr>\n",
       "      <th>std</th>\n",
       "      <td>28.586335</td>\n",
       "      <td>54.611218</td>\n",
       "      <td>81.857288</td>\n",
       "      <td>224.332319</td>\n",
       "      <td>677.747145</td>\n",
       "      <td>1247.748458</td>\n",
       "    </tr>\n",
       "    <tr>\n",
       "      <th>min</th>\n",
       "      <td>1.000000</td>\n",
       "      <td>0.009000</td>\n",
       "      <td>0.000388</td>\n",
       "      <td>0.000528</td>\n",
       "      <td>0.003060</td>\n",
       "      <td>0.013800</td>\n",
       "    </tr>\n",
       "    <tr>\n",
       "      <th>25%</th>\n",
       "      <td>27.000000</td>\n",
       "      <td>9.000000</td>\n",
       "      <td>5.028911</td>\n",
       "      <td>11.463160</td>\n",
       "      <td>38.193487</td>\n",
       "      <td>96.451485</td>\n",
       "    </tr>\n",
       "    <tr>\n",
       "      <th>50%</th>\n",
       "      <td>51.000000</td>\n",
       "      <td>25.000000</td>\n",
       "      <td>28.789233</td>\n",
       "      <td>54.398944</td>\n",
       "      <td>96.800197</td>\n",
       "      <td>224.235561</td>\n",
       "    </tr>\n",
       "    <tr>\n",
       "      <th>75%</th>\n",
       "      <td>76.250000</td>\n",
       "      <td>55.000000</td>\n",
       "      <td>67.098325</td>\n",
       "      <td>157.464832</td>\n",
       "      <td>207.513787</td>\n",
       "      <td>412.027695</td>\n",
       "    </tr>\n",
       "    <tr>\n",
       "      <th>max</th>\n",
       "      <td>100.000000</td>\n",
       "      <td>410.600000</td>\n",
       "      <td>700.059566</td>\n",
       "      <td>2048.134200</td>\n",
       "      <td>22764.410000</td>\n",
       "      <td>41656.474000</td>\n",
       "    </tr>\n",
       "  </tbody>\n",
       "</table>\n",
       "</div>"
      ],
      "text/plain": [
       "                id  production_budget_in_millions  domestic_gross_in_millions  \\\n",
       "count  1608.000000                    1608.000000                 1608.000000   \n",
       "mean     51.268657                      44.242343                   55.748024   \n",
       "std      28.586335                      54.611218                   81.857288   \n",
       "min       1.000000                       0.009000                    0.000388   \n",
       "25%      27.000000                       9.000000                    5.028911   \n",
       "50%      51.000000                      25.000000                   28.789233   \n",
       "75%      76.250000                      55.000000                   67.098325   \n",
       "max     100.000000                     410.600000                  700.059566   \n",
       "\n",
       "       worldwide_gross_in_millions  ROI_domestic  ROI_international  \n",
       "count                  1608.000000   1608.000000        1608.000000  \n",
       "mean                    139.093446    210.463647         417.476241  \n",
       "std                     224.332319    677.747145        1247.748458  \n",
       "min                       0.000528      0.003060           0.013800  \n",
       "25%                      11.463160     38.193487          96.451485  \n",
       "50%                      54.398944     96.800197         224.235561  \n",
       "75%                     157.464832    207.513787         412.027695  \n",
       "max                    2048.134200  22764.410000       41656.474000  "
      ]
     },
     "execution_count": 11,
     "metadata": {},
     "output_type": "execute_result"
    }
   ],
   "source": [
    "budget_w_sql.describe()"
   ]
  },
  {
   "cell_type": "code",
   "execution_count": 13,
   "metadata": {},
   "outputs": [],
   "source": [
    "table_genre = pd.read_sql('''\n",
    "SELECT mb.primary_title, \n",
    "        mb.runtime_minutes, \n",
    "        mb.genres, \n",
    "        mr.averagerating,\n",
    "        mr.numvotes\n",
    "FROM movie_basics AS mb\n",
    "JOIN movie_ratings AS mr USING (movie_id)\n",
    "''', conn)"
   ]
  },
  {
   "cell_type": "code",
   "execution_count": 14,
   "metadata": {},
   "outputs": [],
   "source": [
    "genre_ratings_budget = tn_movie_budgets_clean.merge(table_genre, how='inner', left_on='movie', right_on='primary_title')"
   ]
  },
  {
   "cell_type": "code",
   "execution_count": 15,
   "metadata": {},
   "outputs": [
    {
     "data": {
      "text/html": [
       "<div>\n",
       "<style scoped>\n",
       "    .dataframe tbody tr th:only-of-type {\n",
       "        vertical-align: middle;\n",
       "    }\n",
       "\n",
       "    .dataframe tbody tr th {\n",
       "        vertical-align: top;\n",
       "    }\n",
       "\n",
       "    .dataframe thead th {\n",
       "        text-align: right;\n",
       "    }\n",
       "</style>\n",
       "<table border=\"1\" class=\"dataframe\">\n",
       "  <thead>\n",
       "    <tr style=\"text-align: right;\">\n",
       "      <th></th>\n",
       "      <th>id</th>\n",
       "      <th>release_date</th>\n",
       "      <th>movie</th>\n",
       "      <th>production_budget</th>\n",
       "      <th>domestic_gross</th>\n",
       "      <th>worldwide_gross</th>\n",
       "      <th>production_budget_in_millions</th>\n",
       "      <th>domestic_gross_in_millions</th>\n",
       "      <th>worldwide_gross_in_millions</th>\n",
       "      <th>ROI_domestic</th>\n",
       "      <th>ROI_international</th>\n",
       "      <th>primary_title</th>\n",
       "      <th>runtime_minutes</th>\n",
       "      <th>genres</th>\n",
       "      <th>averagerating</th>\n",
       "      <th>numvotes</th>\n",
       "    </tr>\n",
       "  </thead>\n",
       "  <tbody>\n",
       "    <tr>\n",
       "      <th>0</th>\n",
       "      <td>2</td>\n",
       "      <td>2011-05-20</td>\n",
       "      <td>Pirates of the Caribbean: On Stranger Tides</td>\n",
       "      <td>$410,600,000</td>\n",
       "      <td>$241,063,875</td>\n",
       "      <td>$1,045,663,875</td>\n",
       "      <td>410.6</td>\n",
       "      <td>241.063875</td>\n",
       "      <td>1045.663875</td>\n",
       "      <td>58.710150</td>\n",
       "      <td>254.667286</td>\n",
       "      <td>Pirates of the Caribbean: On Stranger Tides</td>\n",
       "      <td>136.0</td>\n",
       "      <td>Action,Adventure,Fantasy</td>\n",
       "      <td>6.6</td>\n",
       "      <td>447624</td>\n",
       "    </tr>\n",
       "    <tr>\n",
       "      <th>1</th>\n",
       "      <td>3</td>\n",
       "      <td>2019-06-07</td>\n",
       "      <td>Dark Phoenix</td>\n",
       "      <td>$350,000,000</td>\n",
       "      <td>$42,762,350</td>\n",
       "      <td>$149,762,350</td>\n",
       "      <td>350.0</td>\n",
       "      <td>42.762350</td>\n",
       "      <td>149.762350</td>\n",
       "      <td>12.217814</td>\n",
       "      <td>42.789243</td>\n",
       "      <td>Dark Phoenix</td>\n",
       "      <td>113.0</td>\n",
       "      <td>Action,Adventure,Sci-Fi</td>\n",
       "      <td>6.0</td>\n",
       "      <td>24451</td>\n",
       "    </tr>\n",
       "    <tr>\n",
       "      <th>2</th>\n",
       "      <td>4</td>\n",
       "      <td>2015-05-01</td>\n",
       "      <td>Avengers: Age of Ultron</td>\n",
       "      <td>$330,600,000</td>\n",
       "      <td>$459,005,868</td>\n",
       "      <td>$1,403,013,963</td>\n",
       "      <td>330.6</td>\n",
       "      <td>459.005868</td>\n",
       "      <td>1403.013963</td>\n",
       "      <td>138.840250</td>\n",
       "      <td>424.384139</td>\n",
       "      <td>Avengers: Age of Ultron</td>\n",
       "      <td>141.0</td>\n",
       "      <td>Action,Adventure,Sci-Fi</td>\n",
       "      <td>7.3</td>\n",
       "      <td>665594</td>\n",
       "    </tr>\n",
       "    <tr>\n",
       "      <th>3</th>\n",
       "      <td>7</td>\n",
       "      <td>2018-04-27</td>\n",
       "      <td>Avengers: Infinity War</td>\n",
       "      <td>$300,000,000</td>\n",
       "      <td>$678,815,482</td>\n",
       "      <td>$2,048,134,200</td>\n",
       "      <td>300.0</td>\n",
       "      <td>678.815482</td>\n",
       "      <td>2048.134200</td>\n",
       "      <td>226.271827</td>\n",
       "      <td>682.711400</td>\n",
       "      <td>Avengers: Infinity War</td>\n",
       "      <td>149.0</td>\n",
       "      <td>Action,Adventure,Sci-Fi</td>\n",
       "      <td>8.5</td>\n",
       "      <td>670926</td>\n",
       "    </tr>\n",
       "    <tr>\n",
       "      <th>4</th>\n",
       "      <td>9</td>\n",
       "      <td>2017-11-17</td>\n",
       "      <td>Justice League</td>\n",
       "      <td>$300,000,000</td>\n",
       "      <td>$229,024,295</td>\n",
       "      <td>$655,945,209</td>\n",
       "      <td>300.0</td>\n",
       "      <td>229.024295</td>\n",
       "      <td>655.945209</td>\n",
       "      <td>76.341432</td>\n",
       "      <td>218.648403</td>\n",
       "      <td>Justice League</td>\n",
       "      <td>120.0</td>\n",
       "      <td>Action,Adventure,Fantasy</td>\n",
       "      <td>6.5</td>\n",
       "      <td>329135</td>\n",
       "    </tr>\n",
       "  </tbody>\n",
       "</table>\n",
       "</div>"
      ],
      "text/plain": [
       "   id release_date                                        movie  \\\n",
       "0   2   2011-05-20  Pirates of the Caribbean: On Stranger Tides   \n",
       "1   3   2019-06-07                                 Dark Phoenix   \n",
       "2   4   2015-05-01                      Avengers: Age of Ultron   \n",
       "3   7   2018-04-27                       Avengers: Infinity War   \n",
       "4   9   2017-11-17                               Justice League   \n",
       "\n",
       "  production_budget domestic_gross worldwide_gross  \\\n",
       "0      $410,600,000   $241,063,875  $1,045,663,875   \n",
       "1      $350,000,000    $42,762,350    $149,762,350   \n",
       "2      $330,600,000   $459,005,868  $1,403,013,963   \n",
       "3      $300,000,000   $678,815,482  $2,048,134,200   \n",
       "4      $300,000,000   $229,024,295    $655,945,209   \n",
       "\n",
       "   production_budget_in_millions  domestic_gross_in_millions  \\\n",
       "0                          410.6                  241.063875   \n",
       "1                          350.0                   42.762350   \n",
       "2                          330.6                  459.005868   \n",
       "3                          300.0                  678.815482   \n",
       "4                          300.0                  229.024295   \n",
       "\n",
       "   worldwide_gross_in_millions  ROI_domestic  ROI_international  \\\n",
       "0                  1045.663875     58.710150         254.667286   \n",
       "1                   149.762350     12.217814          42.789243   \n",
       "2                  1403.013963    138.840250         424.384139   \n",
       "3                  2048.134200    226.271827         682.711400   \n",
       "4                   655.945209     76.341432         218.648403   \n",
       "\n",
       "                                 primary_title  runtime_minutes  \\\n",
       "0  Pirates of the Caribbean: On Stranger Tides            136.0   \n",
       "1                                 Dark Phoenix            113.0   \n",
       "2                      Avengers: Age of Ultron            141.0   \n",
       "3                       Avengers: Infinity War            149.0   \n",
       "4                               Justice League            120.0   \n",
       "\n",
       "                     genres  averagerating  numvotes  \n",
       "0  Action,Adventure,Fantasy            6.6    447624  \n",
       "1   Action,Adventure,Sci-Fi            6.0     24451  \n",
       "2   Action,Adventure,Sci-Fi            7.3    665594  \n",
       "3   Action,Adventure,Sci-Fi            8.5    670926  \n",
       "4  Action,Adventure,Fantasy            6.5    329135  "
      ]
     },
     "execution_count": 15,
     "metadata": {},
     "output_type": "execute_result"
    }
   ],
   "source": [
    "genre_ratings_budget.head()"
   ]
  },
  {
   "cell_type": "code",
   "execution_count": 16,
   "metadata": {},
   "outputs": [
    {
     "data": {
      "text/html": [
       "<div>\n",
       "<style scoped>\n",
       "    .dataframe tbody tr th:only-of-type {\n",
       "        vertical-align: middle;\n",
       "    }\n",
       "\n",
       "    .dataframe tbody tr th {\n",
       "        vertical-align: top;\n",
       "    }\n",
       "\n",
       "    .dataframe thead th {\n",
       "        text-align: right;\n",
       "    }\n",
       "</style>\n",
       "<table border=\"1\" class=\"dataframe\">\n",
       "  <thead>\n",
       "    <tr style=\"text-align: right;\">\n",
       "      <th></th>\n",
       "      <th>id</th>\n",
       "      <th>production_budget_in_millions</th>\n",
       "      <th>domestic_gross_in_millions</th>\n",
       "      <th>worldwide_gross_in_millions</th>\n",
       "      <th>ROI_domestic</th>\n",
       "      <th>ROI_international</th>\n",
       "      <th>runtime_minutes</th>\n",
       "      <th>averagerating</th>\n",
       "      <th>numvotes</th>\n",
       "    </tr>\n",
       "  </thead>\n",
       "  <tbody>\n",
       "    <tr>\n",
       "      <th>count</th>\n",
       "      <td>1843.000000</td>\n",
       "      <td>1843.000000</td>\n",
       "      <td>1843.000000</td>\n",
       "      <td>1843.000000</td>\n",
       "      <td>1843.000000</td>\n",
       "      <td>1843.000000</td>\n",
       "      <td>1803.000000</td>\n",
       "      <td>1843.000000</td>\n",
       "      <td>1.843000e+03</td>\n",
       "    </tr>\n",
       "    <tr>\n",
       "      <th>mean</th>\n",
       "      <td>51.271297</td>\n",
       "      <td>43.340034</td>\n",
       "      <td>55.352753</td>\n",
       "      <td>137.497935</td>\n",
       "      <td>203.748145</td>\n",
       "      <td>405.027100</td>\n",
       "      <td>106.063783</td>\n",
       "      <td>6.379870</td>\n",
       "      <td>9.819755e+04</td>\n",
       "    </tr>\n",
       "    <tr>\n",
       "      <th>std</th>\n",
       "      <td>28.849608</td>\n",
       "      <td>53.914519</td>\n",
       "      <td>82.861029</td>\n",
       "      <td>226.631164</td>\n",
       "      <td>632.528092</td>\n",
       "      <td>1164.718885</td>\n",
       "      <td>19.685396</td>\n",
       "      <td>1.044827</td>\n",
       "      <td>1.544851e+05</td>\n",
       "    </tr>\n",
       "    <tr>\n",
       "      <th>min</th>\n",
       "      <td>1.000000</td>\n",
       "      <td>0.009000</td>\n",
       "      <td>0.000388</td>\n",
       "      <td>0.000528</td>\n",
       "      <td>0.003060</td>\n",
       "      <td>0.013800</td>\n",
       "      <td>3.000000</td>\n",
       "      <td>1.600000</td>\n",
       "      <td>5.000000e+00</td>\n",
       "    </tr>\n",
       "    <tr>\n",
       "      <th>25%</th>\n",
       "      <td>27.000000</td>\n",
       "      <td>9.000000</td>\n",
       "      <td>4.050486</td>\n",
       "      <td>11.329520</td>\n",
       "      <td>35.245969</td>\n",
       "      <td>91.314365</td>\n",
       "      <td>93.000000</td>\n",
       "      <td>5.800000</td>\n",
       "      <td>4.725500e+03</td>\n",
       "    </tr>\n",
       "    <tr>\n",
       "      <th>50%</th>\n",
       "      <td>51.000000</td>\n",
       "      <td>22.000000</td>\n",
       "      <td>27.695246</td>\n",
       "      <td>52.460543</td>\n",
       "      <td>94.733433</td>\n",
       "      <td>220.585212</td>\n",
       "      <td>104.000000</td>\n",
       "      <td>6.500000</td>\n",
       "      <td>4.215400e+04</td>\n",
       "    </tr>\n",
       "    <tr>\n",
       "      <th>75%</th>\n",
       "      <td>77.000000</td>\n",
       "      <td>52.000000</td>\n",
       "      <td>67.061228</td>\n",
       "      <td>152.417957</td>\n",
       "      <td>205.204881</td>\n",
       "      <td>409.060377</td>\n",
       "      <td>117.000000</td>\n",
       "      <td>7.100000</td>\n",
       "      <td>1.187285e+05</td>\n",
       "    </tr>\n",
       "    <tr>\n",
       "      <th>max</th>\n",
       "      <td>100.000000</td>\n",
       "      <td>410.600000</td>\n",
       "      <td>700.059566</td>\n",
       "      <td>2048.134200</td>\n",
       "      <td>22764.410000</td>\n",
       "      <td>41656.474000</td>\n",
       "      <td>280.000000</td>\n",
       "      <td>9.200000</td>\n",
       "      <td>1.841066e+06</td>\n",
       "    </tr>\n",
       "  </tbody>\n",
       "</table>\n",
       "</div>"
      ],
      "text/plain": [
       "                id  production_budget_in_millions  domestic_gross_in_millions  \\\n",
       "count  1843.000000                    1843.000000                 1843.000000   \n",
       "mean     51.271297                      43.340034                   55.352753   \n",
       "std      28.849608                      53.914519                   82.861029   \n",
       "min       1.000000                       0.009000                    0.000388   \n",
       "25%      27.000000                       9.000000                    4.050486   \n",
       "50%      51.000000                      22.000000                   27.695246   \n",
       "75%      77.000000                      52.000000                   67.061228   \n",
       "max     100.000000                     410.600000                  700.059566   \n",
       "\n",
       "       worldwide_gross_in_millions  ROI_domestic  ROI_international  \\\n",
       "count                  1843.000000   1843.000000        1843.000000   \n",
       "mean                    137.497935    203.748145         405.027100   \n",
       "std                     226.631164    632.528092        1164.718885   \n",
       "min                       0.000528      0.003060           0.013800   \n",
       "25%                      11.329520     35.245969          91.314365   \n",
       "50%                      52.460543     94.733433         220.585212   \n",
       "75%                     152.417957    205.204881         409.060377   \n",
       "max                    2048.134200  22764.410000       41656.474000   \n",
       "\n",
       "       runtime_minutes  averagerating      numvotes  \n",
       "count      1803.000000    1843.000000  1.843000e+03  \n",
       "mean        106.063783       6.379870  9.819755e+04  \n",
       "std          19.685396       1.044827  1.544851e+05  \n",
       "min           3.000000       1.600000  5.000000e+00  \n",
       "25%          93.000000       5.800000  4.725500e+03  \n",
       "50%         104.000000       6.500000  4.215400e+04  \n",
       "75%         117.000000       7.100000  1.187285e+05  \n",
       "max         280.000000       9.200000  1.841066e+06  "
      ]
     },
     "execution_count": 16,
     "metadata": {},
     "output_type": "execute_result"
    }
   ],
   "source": [
    "genre_ratings_budget.describe()"
   ]
  },
  {
   "cell_type": "code",
   "execution_count": 20,
   "metadata": {},
   "outputs": [
    {
     "data": {
      "text/plain": [
       "<AxesSubplot:>"
      ]
     },
     "execution_count": 20,
     "metadata": {},
     "output_type": "execute_result"
    },
    {
     "data": {
      "image/png": "[encoded data removed]",
      "text/plain": [
       "<Figure size 432x288 with 1 Axes>"
      ]
     },
     "metadata": {
      "needs_background": "light"
     },
     "output_type": "display_data"
    }
   ],
   "source": [
    "genre_ratings_budget.worldwide_gross_in_millions.plot.box()"
   ]
  },
  {
   "cell_type": "code",
   "execution_count": null,
   "metadata": {},
   "outputs": [],
   "source": []
  }
 ],
 "metadata": {
  "kernelspec": {
   "display_name": "Python 3",
   "language": "python",
   "name": "python3"
  },
  "language_info": {
   "codemirror_mode": {
    "name": "ipython",
    "version": 3
   },
   "file_extension": ".py",
   "mimetype": "text/x-python",
   "name": "python",
   "nbconvert_exporter": "python",
   "pygments_lexer": "ipython3",
   "version": "3.8.5"
  }
 },
 "nbformat": 4,
 "nbformat_minor": 4
}
